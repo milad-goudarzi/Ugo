{
 "cells": [
  {
   "cell_type": "code",
   "execution_count": 3,
   "id": "1209d0f6",
   "metadata": {},
   "outputs": [],
   "source": [
    "import os"
   ]
  },
  {
   "cell_type": "code",
   "execution_count": 14,
   "id": "65053412",
   "metadata": {},
   "outputs": [
    {
     "name": "stdout",
     "output_type": "stream",
     "text": [
      "All\n",
      "CatchPhrase\n",
      "Noise\n"
     ]
    }
   ],
   "source": [
    "# bringing files names in order\n",
    "\n",
    "parent_path = r'D:\\projects\\RoboticsPolimi\\Dataset\\audio_files'\n",
    "i = 0\n",
    "j = 0\n",
    "for folder in os.listdir(parent_path):\n",
    "    child_path = os.path.join(parent_path, folder)\n",
    "    print(folder)\n",
    "    if folder == \"Noise\":\n",
    "        for file in os.listdir(child_path):\n",
    "            src = os.path.join(child_path, file)\n",
    "            dst = os.path.join(child_path, f'Noise-{i}.wav')\n",
    "            os.rename(src, dst)\n",
    "            i += 1\n",
    "    elif folder == \"CatchPhrase\":\n",
    "        for file in os.listdir(child_path):\n",
    "            src = os.path.join(child_path, file)\n",
    "            dst = os.path.join(child_path, f'Catch-phrase-{j}.wav')\n",
    "            os.rename(src, dst)\n",
    "            j += 1"
   ]
  },
  {
   "cell_type": "markdown",
   "id": "f1069f0e",
   "metadata": {},
   "source": [
    "## Creating metadata file"
   ]
  },
  {
   "cell_type": "code",
   "execution_count": 2,
   "id": "7cf16c13",
   "metadata": {},
   "outputs": [],
   "source": [
    "import pandas as pd"
   ]
  },
  {
   "cell_type": "code",
   "execution_count": 15,
   "id": "af58bf5d",
   "metadata": {},
   "outputs": [],
   "source": [
    "audio_files_path = r'D:\\projects\\RoboticsPolimi\\Dataset\\audio_files'\n",
    "\n",
    "with open(\"sample.txt\", 'w') as f:\n",
    "    for category in os.listdir(audio_files_path):\n",
    "        if category == \"CatchPhrase\":\n",
    "            for file in os.listdir(os.path.join(audio_files_path, category)):\n",
    "                file = file.strip(f\"{audio_files_path}.wav\")\n",
    "                f.write(f'({file}, \"ugo start the game\")\\n')\n",
    "        elif category == \"Noise\":\n",
    "            for file in os.listdir(os.path.join(audio_files_path, category)):\n",
    "                file = file.strip(f\"{audio_files_path}.wav\")\n",
    "                f.write(f'({file}, \"noise\")\\n')"
   ]
  },
  {
   "cell_type": "code",
   "execution_count": 19,
   "id": "ea3d2032",
   "metadata": {},
   "outputs": [
    {
     "data": {
      "text/plain": [
       "Index(['D:\\projects\\RoboticsPolimi\\Dataset\\audio_files\\All\\Catch phrase-0.wav',\n",
       "       '80044', 'ugo start the game'],\n",
       "      dtype='object')"
      ]
     },
     "execution_count": 19,
     "metadata": {},
     "output_type": "execute_result"
    }
   ],
   "source": [
    "df = pd.read_csv(r\"D:\\projects\\RoboticsPolimi\\Deepspeech\\Master branch\\output.csv\")\n",
    "df_temp = df.iloc[:]\n",
    "df_temp.to_csv(r\"D:\\projects\\RoboticsPolimi\\Deepspeech\\Master branch\\output1.csv\", index=False, header=False)\n",
    "df2 = pd.read_csv(r\"D:\\projects\\RoboticsPolimi\\Deepspeech\\Master branch\\output1.csv\", header=None)\n",
    "df2.columns"
   ]
  },
  {
   "cell_type": "code",
   "execution_count": null,
   "id": "56166fe0",
   "metadata": {},
   "outputs": [],
   "source": [
    "df2 = pd.read_csv(r\"D:\\projects\\RoboticsPolimi\\Deepspeech\\Master branch\\output.csv\")\n",
    "df2.to_csv(r\"D:\\projects\\RoboticsPolimi\\Deepspeech\\Master branch\\output.csv\", columns=['wav_filename', 'wav_filesize', 'transcript'], index=False)"
   ]
  },
  {
   "cell_type": "code",
   "execution_count": 4,
   "id": "31fd2629",
   "metadata": {},
   "outputs": [
    {
     "data": {
      "text/html": [
       "<div>\n",
       "<style scoped>\n",
       "    .dataframe tbody tr th:only-of-type {\n",
       "        vertical-align: middle;\n",
       "    }\n",
       "\n",
       "    .dataframe tbody tr th {\n",
       "        vertical-align: top;\n",
       "    }\n",
       "\n",
       "    .dataframe thead th {\n",
       "        text-align: right;\n",
       "    }\n",
       "</style>\n",
       "<table border=\"1\" class=\"dataframe\">\n",
       "  <thead>\n",
       "    <tr style=\"text-align: right;\">\n",
       "      <th></th>\n",
       "      <th>wav_filename</th>\n",
       "      <th>wav_filesize</th>\n",
       "      <th>transcript</th>\n",
       "      <th>split</th>\n",
       "    </tr>\n",
       "  </thead>\n",
       "  <tbody>\n",
       "    <tr>\n",
       "      <th>0</th>\n",
       "      <td>D:\\projects\\RoboticsPolimi\\Dataset\\audio_files...</td>\n",
       "      <td>80044</td>\n",
       "      <td>ugo start the game</td>\n",
       "      <td>0.053456</td>\n",
       "    </tr>\n",
       "    <tr>\n",
       "      <th>1</th>\n",
       "      <td>D:\\projects\\RoboticsPolimi\\Dataset\\audio_files...</td>\n",
       "      <td>80044</td>\n",
       "      <td>ugo start the game</td>\n",
       "      <td>0.772146</td>\n",
       "    </tr>\n",
       "    <tr>\n",
       "      <th>2</th>\n",
       "      <td>D:\\projects\\RoboticsPolimi\\Dataset\\audio_files...</td>\n",
       "      <td>80044</td>\n",
       "      <td>ugo start the game</td>\n",
       "      <td>-0.018484</td>\n",
       "    </tr>\n",
       "    <tr>\n",
       "      <th>3</th>\n",
       "      <td>D:\\projects\\RoboticsPolimi\\Dataset\\audio_files...</td>\n",
       "      <td>80044</td>\n",
       "      <td>ugo start the game</td>\n",
       "      <td>-1.788945</td>\n",
       "    </tr>\n",
       "    <tr>\n",
       "      <th>4</th>\n",
       "      <td>D:\\projects\\RoboticsPolimi\\Dataset\\audio_files...</td>\n",
       "      <td>80044</td>\n",
       "      <td>ugo start the game</td>\n",
       "      <td>-1.554001</td>\n",
       "    </tr>\n",
       "  </tbody>\n",
       "</table>\n",
       "</div>"
      ],
      "text/plain": [
       "                                        wav_filename wav_filesize  \\\n",
       "0  D:\\projects\\RoboticsPolimi\\Dataset\\audio_files...        80044   \n",
       "1  D:\\projects\\RoboticsPolimi\\Dataset\\audio_files...        80044   \n",
       "2  D:\\projects\\RoboticsPolimi\\Dataset\\audio_files...        80044   \n",
       "3  D:\\projects\\RoboticsPolimi\\Dataset\\audio_files...        80044   \n",
       "4  D:\\projects\\RoboticsPolimi\\Dataset\\audio_files...        80044   \n",
       "\n",
       "           transcript     split  \n",
       "0  ugo start the game  0.053456  \n",
       "1  ugo start the game  0.772146  \n",
       "2  ugo start the game -0.018484  \n",
       "3  ugo start the game -1.788945  \n",
       "4  ugo start the game -1.554001  "
      ]
     },
     "execution_count": 4,
     "metadata": {},
     "output_type": "execute_result"
    }
   ],
   "source": [
    "df2.head()"
   ]
  },
  {
   "cell_type": "markdown",
   "id": "dc1b4736",
   "metadata": {},
   "source": [
    "## Split csv files"
   ]
  },
  {
   "cell_type": "code",
   "execution_count": 16,
   "id": "12fc6b22",
   "metadata": {},
   "outputs": [],
   "source": [
    "import numpy as np\n",
    "import pandas as pd\n",
    "\n",
    "file = r\"D:\\projects\\RoboticsPolimi\\Deepspeech\\Master branch\\output.csv\"\n",
    "\n",
    "df1 = pd.read_csv(file)\n",
    "df1['split'] = np.random.randn(df1.shape[0], 1)\n",
    "# Split ratio for training set\n",
    "msk = np.random.rand(len(df1)) <= 0.8\n",
    "train = df1[msk]\n",
    "inter = df1[~msk]\n",
    "train.to_csv(r'D:\\projects\\RoboticsPolimi\\Deepspeech\\Master branch\\train.csv', index=False)\n",
    "inter.to_csv(r'D:\\projects\\RoboticsPolimi\\Deepspeech\\Master branch\\intermediate.csv', index=False)\n",
    "\n",
    "df2 = pd.read_csv(r'D:\\projects\\RoboticsPolimi\\Deepspeech\\Master branch\\intermediate.csv')\n",
    "df2['split'] = np.random.randn(df2.shape[0], 1)\n",
    "# Split ratio for dev and test\n",
    "msk = np.random.rand(len(df2)) <= 0.5\n",
    "dev = df2[msk]\n",
    "test = df2[~msk]\n",
    "dev.to_csv(r'D:\\projects\\RoboticsPolimi\\Deepspeech\\Master branch\\dev.csv', index=False)\n",
    "test.to_csv(r'D:\\projects\\RoboticsPolimi\\Deepspeech\\Master branch\\test.csv', index=False)"
   ]
  },
  {
   "cell_type": "code",
   "execution_count": 2,
   "id": "b4c6c53e",
   "metadata": {},
   "outputs": [
    {
     "data": {
      "text/plain": [
       "'1.19.5'"
      ]
     },
     "execution_count": 2,
     "metadata": {},
     "output_type": "execute_result"
    }
   ],
   "source": [
    "np.__version__"
   ]
  },
  {
   "cell_type": "code",
   "execution_count": null,
   "id": "e51f968d",
   "metadata": {},
   "outputs": [],
   "source": []
  }
 ],
 "metadata": {
  "kernelspec": {
   "display_name": "Python 3",
   "language": "python",
   "name": "python3"
  },
  "language_info": {
   "codemirror_mode": {
    "name": "ipython",
    "version": 3
   },
   "file_extension": ".py",
   "mimetype": "text/x-python",
   "name": "python",
   "nbconvert_exporter": "python",
   "pygments_lexer": "ipython3",
   "version": "3.6.13"
  }
 },
 "nbformat": 4,
 "nbformat_minor": 5
}
